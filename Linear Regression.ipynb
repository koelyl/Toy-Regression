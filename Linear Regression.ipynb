{
 "cells": [
  {
   "cell_type": "code",
   "execution_count": 20,
   "metadata": {
    "collapsed": false
   },
   "outputs": [],
   "source": [
    "import numpy as np\n",
    "import pandas as pd\n",
    "from scipy.stats.stats import pearsonr, spearmanr\n",
    "from scipy.stats import linregress\n",
    "import math\n",
    "import matplotlib.pyplot as plt\n",
    "%matplotlib inline"
   ]
  },
  {
   "cell_type": "markdown",
   "metadata": {},
   "source": [
    "### Set up test framework"
   ]
  },
  {
   "cell_type": "code",
   "execution_count": 21,
   "metadata": {
    "collapsed": true
   },
   "outputs": [],
   "source": [
    "x = [7, 6, 8, 5, 9, 11, 14, 12]\n",
    "y = [16, 12, 15, 13, 16, 22, 26, 23]"
   ]
  },
  {
   "cell_type": "code",
   "execution_count": 22,
   "metadata": {
    "collapsed": false
   },
   "outputs": [
    {
     "name": "stdout",
     "output_type": "stream",
     "text": [
      "Pearson correlation coefficient:  (0.96848328480381796, 7.6425835327808119e-05)\n"
     ]
    }
   ],
   "source": [
    "print \"Pearson correlation coefficient: \", pearsonr(x,y)"
   ]
  },
  {
   "cell_type": "code",
   "execution_count": 23,
   "metadata": {
    "collapsed": false
   },
   "outputs": [
    {
     "name": "stdout",
     "output_type": "stream",
     "text": [
      "Spearman rank order:  SpearmanrResult(correlation=0.93414848429234199, pvalue=0.00067910574523109694)\n"
     ]
    }
   ],
   "source": [
    "print \"Spearman rank order: \", spearmanr(x,y)"
   ]
  },
  {
   "cell_type": "code",
   "execution_count": 35,
   "metadata": {
    "collapsed": false
   },
   "outputs": [
    {
     "data": {
      "text/plain": [
       "LinregressResult(slope=1.588235294117647, intercept=3.5808823529411775, rvalue=0.96848328480381796, pvalue=7.6425835327808132e-05, stderr=0.16675675189386308)"
      ]
     },
     "execution_count": 35,
     "metadata": {},
     "output_type": "execute_result"
    }
   ],
   "source": [
    "#Full regression \n",
    "linregress(x, y)"
   ]
  },
  {
   "cell_type": "markdown",
   "metadata": {},
   "source": [
    "### Construct calculations\n",
    "The equation for a regression line is as follows: Y = a + Bx.<br>"
   ]
  },
  {
   "cell_type": "code",
   "execution_count": 9,
   "metadata": {
    "collapsed": false
   },
   "outputs": [],
   "source": [
    "def get_mean(num_lst):\n",
    "    return np.mean(num_lst)\n",
    "\n",
    "def get_sd(num_lst, mean):\n",
    "    total=0\n",
    "    for num in num_lst:\n",
    "        total+= (num-mean) ** 2\n",
    "    variance = total / len(num_lst) * 1.0\n",
    "    return math.sqrt(variance)\n",
    "\n",
    "def pearson(x, y):\n",
    "    total = 0\n",
    "    total_x_sq = 0\n",
    "    total_y_sq = 0\n",
    "    for i in range(len(x)):\n",
    "        total += float(x[i] * y[i])\n",
    "        total_x_sq += x[i] ** 2.0\n",
    "        total_y_sq += y[i] ** 2.0\n",
    "    numerator = (len(x) * total) - (sum(x) * sum(y))\n",
    "    denominator = math.sqrt((len(x) * total_x_sq - (sum(x) ** 2)) * (len(x)* total_y_sq - (sum(y) ** 2)))\n",
    "    return float(numerator / denominator)\n",
    "                                                             \n",
    "def get_slope(r, sd_x, sd_y):\n",
    "    return r * (sd_y/sd_x) * 1.0\n",
    "\n",
    "def get_intercept(mean_x, mean_y, slope):\n",
    "    return mean_y - (slope * mean_x)\n",
    "    "
   ]
  },
  {
   "cell_type": "markdown",
   "metadata": {},
   "source": [
    "### Run linear regression model on test data"
   ]
  },
  {
   "cell_type": "code",
   "execution_count": 10,
   "metadata": {
    "collapsed": false
   },
   "outputs": [],
   "source": [
    "def linear_regression(x, y):\n",
    "    \n",
    "    mean_x = get_mean(x)\n",
    "    mean_y = get_mean(y)\n",
    "\n",
    "    r = pearson(x,y)\n",
    "\n",
    "    sdx = get_sd(x, mean_x)\n",
    "    sdy = get_sd(y, mean_y)\n",
    "\n",
    "    slope = get_slope(r, sdx, sdy)\n",
    "\n",
    "    intercept = get_intercept(mean_x, mean_y, slope)\n",
    "    \n",
    "    return slope, intercept"
   ]
  },
  {
   "cell_type": "markdown",
   "metadata": {},
   "source": [
    "Confirm coefficients match the test output: "
   ]
  },
  {
   "cell_type": "code",
   "execution_count": 11,
   "metadata": {
    "collapsed": false
   },
   "outputs": [
    {
     "name": "stdout",
     "output_type": "stream",
     "text": [
      "Slope:  1.58823529412 \n",
      "Intercept:  3.58088235294\n"
     ]
    }
   ],
   "source": [
    "slope, intercept = linear_regression(x, y)\n",
    "print \"Slope: \", slope, '\\n', \"Intercept: \", intercept"
   ]
  },
  {
   "cell_type": "code",
   "execution_count": 12,
   "metadata": {
    "collapsed": true
   },
   "outputs": [],
   "source": [
    "def predictions(x, slope, intercept):\n",
    "    pred_lst = [slope * num + intercept for num in x]\n",
    "    return pred_lst"
   ]
  },
  {
   "cell_type": "code",
   "execution_count": 13,
   "metadata": {
    "collapsed": false
   },
   "outputs": [],
   "source": [
    "y_hats = predictions(x, slope, intercept)"
   ]
  },
  {
   "cell_type": "code",
   "execution_count": 62,
   "metadata": {
    "collapsed": false
   },
   "outputs": [
    {
     "data": {
      "image/png": "[encoded data removed]",
      "text/plain": [
       "<matplotlib.figure.Figure at 0x113485a10>"
      ]
     },
     "metadata": {},
     "output_type": "display_data"
    }
   ],
   "source": [
    "plt.plot(x, y_hats)\n",
    "predicted, = plt.plot(x, y_hats, 'ro', label='Predicted')\n",
    "actual, = plt.plot(x, y, 'bs', label='Actual')\n",
    "plt.ylabel('y')\n",
    "plt.xlabel('x')\n",
    "plt.legend(handles=[predicted, actual], loc=2, numpoints = 1)\n",
    "plt.show()"
   ]
  },
  {
   "cell_type": "markdown",
   "metadata": {},
   "source": [
    "### Diagnostics\n",
    "Let's take a look at the distribution of residuals: "
   ]
  },
  {
   "cell_type": "code",
   "execution_count": 57,
   "metadata": {
    "collapsed": true
   },
   "outputs": [],
   "source": [
    "def get_residuals(actual, predicted):\n",
    "    residuals = [actual[i] - predicted[i] for i in range(len(actual))]\n",
    "    return residuals\n",
    "    \n"
   ]
  },
  {
   "cell_type": "code",
   "execution_count": 58,
   "metadata": {
    "collapsed": false
   },
   "outputs": [],
   "source": [
    "errors = get_residuals(y, y_hats)"
   ]
  },
  {
   "cell_type": "code",
   "execution_count": 59,
   "metadata": {
    "collapsed": false
   },
   "outputs": [
    {
     "data": {
      "image/png": "[encoded data removed]",
      "text/plain": [
       "<matplotlib.figure.Figure at 0x1135e9310>"
      ]
     },
     "metadata": {},
     "output_type": "display_data"
    }
   ],
   "source": [
    "plt.plot(x, errors, 'ro')\n",
    "plt.ylabel('errors')\n",
    "plt.xlabel('x')\n",
    "plt.show()"
   ]
  }
 ],
 "metadata": {
  "kernelspec": {
   "display_name": "Python [default]",
   "language": "python",
   "name": "python2"
  },
  "language_info": {
   "codemirror_mode": {
    "name": "ipython",
    "version": 2
   },
   "file_extension": ".py",
   "mimetype": "text/x-python",
   "name": "python",
   "nbconvert_exporter": "python",
   "pygments_lexer": "ipython2",
   "version": "2.7.12"
  }
 },
 "nbformat": 4,
 "nbformat_minor": 1
}
